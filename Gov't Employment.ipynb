{
 "cells": [
  {
   "cell_type": "code",
   "execution_count": 1,
   "id": "7f9bb6a5",
   "metadata": {},
   "outputs": [],
   "source": [
    "import pandas as pd\n",
    "import numpy as np\n",
    "import matplotlib.pyplot as plt\n",
    "import seaborn as sns"
   ]
  },
  {
   "cell_type": "code",
   "execution_count": 3,
   "id": "4cd56598",
   "metadata": {},
   "outputs": [],
   "source": [
    "gov_emp = pd.read_csv('Government_Employees_Demograpy.csv')"
   ]
  },
  {
   "cell_type": "code",
   "execution_count": 4,
   "id": "873d0f2a",
   "metadata": {},
   "outputs": [
    {
     "data": {
      "text/html": [
       "<div>\n",
       "<style scoped>\n",
       "    .dataframe tbody tr th:only-of-type {\n",
       "        vertical-align: middle;\n",
       "    }\n",
       "\n",
       "    .dataframe tbody tr th {\n",
       "        vertical-align: top;\n",
       "    }\n",
       "\n",
       "    .dataframe thead th {\n",
       "        text-align: right;\n",
       "    }\n",
       "</style>\n",
       "<table border=\"1\" class=\"dataframe\">\n",
       "  <thead>\n",
       "    <tr style=\"text-align: right;\">\n",
       "      <th></th>\n",
       "      <th>Pay Grade / Step</th>\n",
       "      <th>Annual Salary</th>\n",
       "      <th>Class</th>\n",
       "      <th>Title</th>\n",
       "      <th>Current Department</th>\n",
       "      <th>Employment Status</th>\n",
       "      <th>EEO Job Category Description</th>\n",
       "      <th>Gender</th>\n",
       "      <th>Ethnic Code Description</th>\n",
       "      <th>Year of Birth</th>\n",
       "      <th>Date Started</th>\n",
       "      <th>FLSA Exempt?</th>\n",
       "      <th>County</th>\n",
       "    </tr>\n",
       "  </thead>\n",
       "  <tbody>\n",
       "    <tr>\n",
       "      <th>0</th>\n",
       "      <td>OR06</td>\n",
       "      <td>43390.46</td>\n",
       "      <td>7757</td>\n",
       "      <td>Technical Specialist 2</td>\n",
       "      <td>Police</td>\n",
       "      <td>Parttime</td>\n",
       "      <td>Professionals</td>\n",
       "      <td>M</td>\n",
       "      <td>White</td>\n",
       "      <td>1950</td>\n",
       "      <td>7/16/1972</td>\n",
       "      <td>Y</td>\n",
       "      <td>Davidson</td>\n",
       "    </tr>\n",
       "    <tr>\n",
       "      <th>1</th>\n",
       "      <td>OR04</td>\n",
       "      <td>72688.60</td>\n",
       "      <td>7753</td>\n",
       "      <td>Professional Spec</td>\n",
       "      <td>Police</td>\n",
       "      <td>Fulltime</td>\n",
       "      <td>Professionals</td>\n",
       "      <td>F</td>\n",
       "      <td>White</td>\n",
       "      <td>1952</td>\n",
       "      <td>8/18/1972</td>\n",
       "      <td>Y</td>\n",
       "      <td>Davidson</td>\n",
       "    </tr>\n",
       "    <tr>\n",
       "      <th>2</th>\n",
       "      <td>OR07</td>\n",
       "      <td>113468.17</td>\n",
       "      <td>7242</td>\n",
       "      <td>Admin Svcs Mgr</td>\n",
       "      <td>Water Services</td>\n",
       "      <td>Fulltime</td>\n",
       "      <td>Officials and administrators</td>\n",
       "      <td>M</td>\n",
       "      <td>Black or African American</td>\n",
       "      <td>1950</td>\n",
       "      <td>2/26/1973</td>\n",
       "      <td>Y</td>\n",
       "      <td>Davidson</td>\n",
       "    </tr>\n",
       "    <tr>\n",
       "      <th>3</th>\n",
       "      <td>OR09</td>\n",
       "      <td>121002.72</td>\n",
       "      <td>10863</td>\n",
       "      <td>Admin Svcs Division Manager</td>\n",
       "      <td>Metropolitan Council</td>\n",
       "      <td>Fulltime</td>\n",
       "      <td>Officials and administrators</td>\n",
       "      <td>F</td>\n",
       "      <td>White</td>\n",
       "      <td>1956</td>\n",
       "      <td>9/1/1974</td>\n",
       "      <td>Y</td>\n",
       "      <td>Davidson</td>\n",
       "    </tr>\n",
       "    <tr>\n",
       "      <th>4</th>\n",
       "      <td>FD03</td>\n",
       "      <td>76225.40</td>\n",
       "      <td>11172</td>\n",
       "      <td>Advanced Emergency Med Tech</td>\n",
       "      <td>Fire</td>\n",
       "      <td>Fulltime</td>\n",
       "      <td>Technicians</td>\n",
       "      <td>M</td>\n",
       "      <td>White</td>\n",
       "      <td>1954</td>\n",
       "      <td>11/1/1974</td>\n",
       "      <td>N</td>\n",
       "      <td>Wilson</td>\n",
       "    </tr>\n",
       "  </tbody>\n",
       "</table>\n",
       "</div>"
      ],
      "text/plain": [
       "  Pay Grade / Step  Annual Salary  Class                        Title  \\\n",
       "0             OR06       43390.46   7757       Technical Specialist 2   \n",
       "1             OR04       72688.60   7753            Professional Spec   \n",
       "2             OR07      113468.17   7242               Admin Svcs Mgr   \n",
       "3             OR09      121002.72  10863  Admin Svcs Division Manager   \n",
       "4             FD03       76225.40  11172  Advanced Emergency Med Tech   \n",
       "\n",
       "     Current Department Employment Status  EEO Job Category Description  \\\n",
       "0                Police          Parttime                 Professionals   \n",
       "1                Police          Fulltime                 Professionals   \n",
       "2        Water Services          Fulltime  Officials and administrators   \n",
       "3  Metropolitan Council          Fulltime  Officials and administrators   \n",
       "4                  Fire          Fulltime                   Technicians   \n",
       "\n",
       "  Gender    Ethnic Code Description  Year of Birth Date Started FLSA Exempt?  \\\n",
       "0      M                      White           1950    7/16/1972            Y   \n",
       "1      F                      White           1952    8/18/1972            Y   \n",
       "2      M  Black or African American           1950    2/26/1973            Y   \n",
       "3      F                      White           1956     9/1/1974            Y   \n",
       "4      M                      White           1954    11/1/1974            N   \n",
       "\n",
       "     County  \n",
       "0  Davidson  \n",
       "1  Davidson  \n",
       "2  Davidson  \n",
       "3  Davidson  \n",
       "4    Wilson  "
      ]
     },
     "execution_count": 4,
     "metadata": {},
     "output_type": "execute_result"
    }
   ],
   "source": [
    "gov_emp.head()"
   ]
  },
  {
   "cell_type": "code",
   "execution_count": 8,
   "id": "6440dadb",
   "metadata": {},
   "outputs": [],
   "source": [
    "#gov_emp.info()"
   ]
  },
  {
   "cell_type": "code",
   "execution_count": 6,
   "id": "e27c46b6",
   "metadata": {},
   "outputs": [],
   "source": [
    "#change the Date Started column to datetime\n",
    "gov_emp['Date Started'] = pd.to_datetime(gov_emp['Date Started'])"
   ]
  },
  {
   "cell_type": "code",
   "execution_count": 7,
   "id": "443e7298",
   "metadata": {},
   "outputs": [
    {
     "name": "stdout",
     "output_type": "stream",
     "text": [
      "<class 'pandas.core.frame.DataFrame'>\n",
      "RangeIndex: 10782 entries, 0 to 10781\n",
      "Data columns (total 13 columns):\n",
      " #   Column                        Non-Null Count  Dtype         \n",
      "---  ------                        --------------  -----         \n",
      " 0   Pay Grade / Step              10782 non-null  object        \n",
      " 1   Annual Salary                 10693 non-null  float64       \n",
      " 2   Class                         10782 non-null  int64         \n",
      " 3   Title                         10782 non-null  object        \n",
      " 4   Current Department            10782 non-null  object        \n",
      " 5   Employment Status             10782 non-null  object        \n",
      " 6   EEO Job Category Description  10782 non-null  object        \n",
      " 7   Gender                        10782 non-null  object        \n",
      " 8   Ethnic Code Description       10782 non-null  object        \n",
      " 9   Year of Birth                 10782 non-null  int64         \n",
      " 10  Date Started                  10782 non-null  datetime64[ns]\n",
      " 11  FLSA Exempt?                  10773 non-null  object        \n",
      " 12  County                        10782 non-null  object        \n",
      "dtypes: datetime64[ns](1), float64(1), int64(2), object(9)\n",
      "memory usage: 1.1+ MB\n"
     ]
    }
   ],
   "source": [
    "gov_emp.info()"
   ]
  },
  {
   "cell_type": "markdown",
   "id": "65c01655",
   "metadata": {},
   "source": [
    "#Clean the census data on excel and bring it here"
   ]
  },
  {
   "cell_type": "code",
   "execution_count": null,
   "id": "dee4b074",
   "metadata": {},
   "outputs": [],
   "source": []
  }
 ],
 "metadata": {
  "kernelspec": {
   "display_name": "Python 3 (ipykernel)",
   "language": "python",
   "name": "python3"
  },
  "language_info": {
   "codemirror_mode": {
    "name": "ipython",
    "version": 3
   },
   "file_extension": ".py",
   "mimetype": "text/x-python",
   "name": "python",
   "nbconvert_exporter": "python",
   "pygments_lexer": "ipython3",
   "version": "3.11.7"
  }
 },
 "nbformat": 4,
 "nbformat_minor": 5
}
